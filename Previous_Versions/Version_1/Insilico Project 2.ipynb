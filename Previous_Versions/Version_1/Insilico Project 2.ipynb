{
 "cells": [
  {
   "cell_type": "markdown",
   "id": "8d335087-9e32-414b-b12a-ed0b13df69df",
   "metadata": {},
   "source": [
    "## New approach using a downloaded database to get around 10 request per second limit\n",
    "Inputs: datafile (pandas df), name of column containing names\n",
    "\n",
    "Outputs: Results.csv, gene_lookup.log"
   ]
  },
  {
   "cell_type": "code",
   "execution_count": 8,
   "id": "78f6a2ee-f62c-4df4-b288-4d53a934ec7f",
   "metadata": {},
   "outputs": [],
   "source": [
    "import csv\n",
    "import os\n",
    "import re\n",
    "import pandas as pd\n",
    "import time\n",
    "import requests\n",
    "import logging\n",
    "from Functions import addColumns, makeAndFetchURL, search_single_gene\n",
    "\n",
    "log_path = os.path.join(os.getcwd(), 'gene_lookup.log')\n",
    "logging.basicConfig(\n",
    "    filename=log_path,  # using absolute path\n",
    "    filemode='a',       # append mode, use \"w\" to overwrite each time\n",
    "    level=logging.INFO, # logging level\n",
    "    format='%(asctime)s - %(levelname)s - %(message)s'\n",
    ")"
   ]
  },
  {
   "cell_type": "code",
   "execution_count": 9,
   "id": "6c9980ab-deb5-4cc4-a9d0-c3ea0fa4d265",
   "metadata": {},
   "outputs": [],
   "source": [
    "def ALL(df_original, name_col):    \n",
    "    #1. Find what info is needed and then download data, returning path\n",
    "    columns_needed = addColumns(df_original, name_col)\n",
    "    path = makeAndFetchURL(columns_needed)\n",
    "\n",
    "    #2. Prep new df (add columns)\n",
    "    df = df_original.copy()\n",
    "    position = df.columns.get_loc(name_col)\n",
    "\n",
    "    new_columns = pd.DataFrame({\n",
    "    'Approved symbol': [None] * len(df),\n",
    "    'Approved name': [None] * len(df),\n",
    "    'Previous symbols': [None] * len(df),\n",
    "    'Alias symbols': [None] * len(df)})\n",
    "\n",
    "    for i, col in enumerate(new_columns.columns):\n",
    "        df.insert(position + 1 + i, col, new_columns[col])\n",
    "\n",
    "    #3. Iterate through each entry and add names\n",
    "    for idx, row in df.iterrows():\n",
    "        name = row[name_col]\n",
    "        aSym, aName, pSym, alias = search_single_gene(path, name)\n",
    "\n",
    "        if len(aSym.index) == 0:\n",
    "            logging.info(f\"Entry not in downloaded database, using API\",name)\n",
    "            #Use API to fetch in two rounds (first for approved, then using approved to find rest of data)\n",
    "        else:\n",
    "            # If multiple entries are returned, log them.\n",
    "            if len(aSym.index) > 1:\n",
    "                logging.info(f\"Multiple entries found for %s: Approved Symbols %s\",name, list(aSym))\n",
    "            df.at[idx, 'Approved symbol'] = aSym[0]\n",
    "            df.at[idx, 'Approved name'] = aName[0]\n",
    "            df.at[idx, 'Previous symbols'] = pSym[0]\n",
    "            df.at[idx, 'Alias symbols'] = alias[0]\n",
    "\n",
    "    os.remove(path)\n",
    "    df = df.drop(columns=[name_col])\n",
    "    return df\n",
    "\n",
    "test = pd.read_csv('test.csv')\n",
    "result = ALL(test, \"Name\")\n",
    "result.to_csv('result.csv', index=False)"
   ]
  }
 ],
 "metadata": {
  "kernelspec": {
   "display_name": "Python 3 (ipykernel)",
   "language": "python",
   "name": "python3"
  },
  "language_info": {
   "codemirror_mode": {
    "name": "ipython",
    "version": 3
   },
   "file_extension": ".py",
   "mimetype": "text/x-python",
   "name": "python",
   "nbconvert_exporter": "python",
   "pygments_lexer": "ipython3",
   "version": "3.13.5"
  }
 },
 "nbformat": 4,
 "nbformat_minor": 5
}
