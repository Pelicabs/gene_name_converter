{
 "cells": [
  {
   "cell_type": "code",
   "execution_count": 2,
   "id": "8203b9fc-fae4-426c-8c9e-c15deaba9bd1",
   "metadata": {},
   "outputs": [
    {
     "name": "stdout",
     "output_type": "stream",
     "text": [
      "         Name              Kind\n",
      "0    C6orf150   Previous Symbol\n",
      "1        UCN2   Approved Symbol\n",
      "2  HGNC:11998           HGNC ID\n",
      "3      HGNC:5           HGNC ID\n",
      "4        A1BG   Approved Symbol\n",
      "Completed\n"
     ]
    }
   ],
   "source": [
    "from gene_lookup import convert_gene_names\n",
    "\n",
    "#Load data as a pandas df\n",
    "import pandas as pd\n",
    "test_data = pd.read_csv('Data_Files/test.csv')\n",
    "print(test_data.head())\n",
    "\n",
    "#Pass in dataframe and name column of dataset into function, and if data is to be returned as a dataframe\n",
    "result_df = convert_gene_names(test_data, \"Name\", to_return = False)\n",
    "print(\"Completed\")"
   ]
  }
 ],
 "metadata": {
  "kernelspec": {
   "display_name": "Python 3 (ipykernel)",
   "language": "python",
   "name": "python3"
  },
  "language_info": {
   "codemirror_mode": {
    "name": "ipython",
    "version": 3
   },
   "file_extension": ".py",
   "mimetype": "text/x-python",
   "name": "python",
   "nbconvert_exporter": "python",
   "pygments_lexer": "ipython3",
   "version": "3.13.5"
  }
 },
 "nbformat": 4,
 "nbformat_minor": 5
}
