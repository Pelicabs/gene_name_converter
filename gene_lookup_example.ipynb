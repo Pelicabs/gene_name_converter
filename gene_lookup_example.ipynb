{
 "cells": [
  {
   "cell_type": "code",
   "execution_count": 1,
   "id": "a9b811df-adb9-40ec-83d1-813f01a0badf",
   "metadata": {},
   "outputs": [
    {
     "name": "stdout",
     "output_type": "stream",
     "text": [
      "Completed lookup for Test.csv in 4.4 seconds.\n",
      "Completed lookup for Sample Gene List.csv in 6.1 seconds.\n",
      "Completed lookup for Sample Gene List2.csv in 12.7 seconds.\n",
      "Completed lookup for protein_coding_genes.csv in 505.3 seconds.\n"
     ]
    }
   ],
   "source": [
    "import time\n",
    "import pandas as pd\n",
    "from gene_lookup_v4 import convert_gene_names\n",
    "\n",
    "data_filenames = ['Test','Sample Gene List','Sample Gene List2','protein_coding_genes']\n",
    "for name in data_filenames:\n",
    "    start = time.time()\n",
    "    test_data = pd.read_csv(f'Data_Files/{name}.csv')\n",
    "    result_df = convert_gene_names(test_data, \"Name\", to_return = False, output_name = name)\n",
    "    print(f\"Completed lookup for {name}.csv in {time.time()-start:.1f} seconds.\")"
   ]
  }
 ],
 "metadata": {
  "kernelspec": {
   "display_name": "Python 3 (ipykernel)",
   "language": "python",
   "name": "python3"
  },
  "language_info": {
   "codemirror_mode": {
    "name": "ipython",
    "version": 3
   },
   "file_extension": ".py",
   "mimetype": "text/x-python",
   "name": "python",
   "nbconvert_exporter": "python",
   "pygments_lexer": "ipython3",
   "version": "3.13.5"
  }
 },
 "nbformat": 4,
 "nbformat_minor": 5
}
